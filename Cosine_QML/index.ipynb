{
 "cells": [
  {
   "cell_type": "markdown",
   "metadata": {},
   "source": [
    "### Import libraries"
   ]
  },
  {
   "cell_type": "code",
   "execution_count": 15,
   "metadata": {},
   "outputs": [],
   "source": [
    "import pennylane as qml\n",
    "from pennylane import numpy as np"
   ]
  },
  {
   "cell_type": "markdown",
   "metadata": {},
   "source": [
    "### Create a device with 2 qubits"
   ]
  },
  {
   "cell_type": "code",
   "execution_count": 16,
   "metadata": {},
   "outputs": [],
   "source": [
    "#@title Create a device with 2 qubits\n",
    "dev = qml.device(\"default.qubit\", wires=2)"
   ]
  },
  {
   "cell_type": "markdown",
   "metadata": {},
   "source": [
    "### Create a QNode with 2 entangled qubits (Bell state). Return the probabilities for each state."
   ]
  },
  {
   "cell_type": "code",
   "execution_count": 17,
   "metadata": {},
   "outputs": [],
   "source": [
    "@qml.qnode(dev)\n",
    "def circuit():\n",
    "    qml.Hadamard(wires=0)\n",
    "    qml.CNOT(wires=[0,1])\n",
    "    return qml.probs()"
   ]
  },
  {
   "cell_type": "markdown",
   "metadata": {},
   "source": [
    "### Draw circuit"
   ]
  },
  {
   "cell_type": "code",
   "execution_count": 18,
   "metadata": {},
   "outputs": [
    {
     "data": {
      "text/plain": [
       "(<Figure size 500x300 with 1 Axes>, <Axes: >)"
      ]
     },
     "execution_count": 18,
     "metadata": {},
     "output_type": "execute_result"
    },
    {
     "data": {
      "image/png": "[encoded data removed]",
      "text/plain": [
       "<Figure size 500x300 with 1 Axes>"
      ]
     },
     "metadata": {},
     "output_type": "display_data"
    }
   ],
   "source": [
    "qml.draw_mpl(circuit, style='pennylane')()"
   ]
  },
  {
   "cell_type": "markdown",
   "metadata": {},
   "source": [
    "### Run circuit"
   ]
  },
  {
   "cell_type": "code",
   "execution_count": 19,
   "metadata": {},
   "outputs": [
    {
     "data": {
      "text/plain": [
       "tensor([0.5, 0. , 0. , 0.5], requires_grad=True)"
      ]
     },
     "execution_count": 19,
     "metadata": {},
     "output_type": "execute_result"
    }
   ],
   "source": [
    "circuit()"
   ]
  },
  {
   "cell_type": "markdown",
   "metadata": {},
   "source": [
    "## Introduction to QML\n",
    "Train a circuit to model a sine function"
   ]
  },
  {
   "cell_type": "code",
   "execution_count": 20,
   "metadata": {},
   "outputs": [],
   "source": [
    "# Import visualization graph\n",
    "import matplotlib.pyplot as plt"
   ]
  },
  {
   "cell_type": "markdown",
   "metadata": {},
   "source": [
    "#### Step 0: Prepare data"
   ]
  },
  {
   "cell_type": "code",
   "execution_count": 21,
   "metadata": {},
   "outputs": [],
   "source": [
    "# Training data\n",
    "X = np.linspace(0, 2*np.pi, 1000)\n",
    "y = np.sin(X)\n",
    "\n",
    "# Testing data\n",
    "X_test = np.linspace(0.2, 2*np.pi+0.2, 10)\n",
    "y_test = np.sin(X_test)"
   ]
  },
  {
   "cell_type": "markdown",
   "metadata": {},
   "source": [
    "#### Step 1: Create the device"
   ]
  },
  {
   "cell_type": "code",
   "execution_count": 22,
   "metadata": {},
   "outputs": [],
   "source": [
    "dev = qml.device(\"default.qubit\", wires=1)"
   ]
  },
  {
   "cell_type": "markdown",
   "metadata": {},
   "source": [
    "#### Step 2: Create the quantum circuit\n",
    "1. Encode the input data as an RX rotation\n",
    "2. Create an RY and an RX rotation based on the angles in \"params\"\n",
    "3. We return the expected value of a measurement along the Z axis\n"
   ]
  },
  {
   "cell_type": "code",
   "execution_count": 23,
   "metadata": {},
   "outputs": [],
   "source": [
    "@qml.qnode(dev)\n",
    "def quantum_circuit(datapoint, params):\n",
    "    # Encoding\n",
    "    qml.RX(datapoint, wires=0)\n",
    "    # Ansatz\n",
    "    qml.RY(params[0], wires=0)\n",
    "    qml.RX(params[1], wires=0)\n",
    "    return qml.expval(qml.PauliZ(wires=0))"
   ]
  },
  {
   "cell_type": "code",
   "execution_count": 24,
   "metadata": {},
   "outputs": [
    {
     "data": {
      "text/plain": [
       "(<Figure size 600x200 with 1 Axes>, <Axes: >)"
      ]
     },
     "execution_count": 24,
     "metadata": {},
     "output_type": "execute_result"
    },
    {
     "data": {
      "image/png": "[encoded data removed]",
      "text/plain": [
       "<Figure size 600x200 with 1 Axes>"
      ]
     },
     "metadata": {},
     "output_type": "display_data"
    }
   ],
   "source": [
    "qml.draw_mpl(quantum_circuit, style='pennylane')(0.1, [0.2, 0.3])"
   ]
  },
  {
   "cell_type": "markdown",
   "metadata": {},
   "source": [
    "#### Step 3: Classical Pre/Postprocessing"
   ]
  },
  {
   "cell_type": "code",
   "execution_count": 25,
   "metadata": {},
   "outputs": [],
   "source": [
    "# Loss function\n",
    "def loss_func(predictions, targets):\n",
    "    total_loss = 0\n",
    "    for i in range(len(targets)):\n",
    "        label = targets[i]\n",
    "        prediction = predictions[i]\n",
    "        loss = (prediction - label) ** 2\n",
    "        total_loss += loss\n",
    "    return total_loss"
   ]
  },
  {
   "cell_type": "markdown",
   "metadata": {},
   "source": [
    "#### Step 4: Define cost function, including any classical pre/postprocessing"
   ]
  },
  {
   "cell_type": "code",
   "execution_count": 26,
   "metadata": {},
   "outputs": [],
   "source": [
    "def cost_fn(params, X, y):\n",
    "    # For a single value of the parameters we run the quantum circuit 10 times, once per datapoint (x)\n",
    "    predictions = [quantum_circuit(x, params) for x in X]\n",
    "    cost = loss_func(predictions, y)\n",
    "    return cost"
   ]
  },
  {
   "cell_type": "markdown",
   "metadata": {},
   "source": [
    "#### Step 5: Optimize\n",
    "In this scenario, we use Gradient Descent"
   ]
  },
  {
   "cell_type": "code",
   "execution_count": 27,
   "metadata": {},
   "outputs": [
    {
     "name": "stdout",
     "output_type": "stream",
     "text": [
      "Step = 0 Cost = 417.0410340164385\n",
      "Step = 5 Cost = 1055.0313502472152\n",
      "Step = 10 Cost = 189.83600761742\n",
      "Step = 15 Cost = 1157.3966225037002\n",
      "Step = 20 Cost = 1740.774127263571\n",
      "Step = 25 Cost = 37.820617008970046\n",
      "Step = 30 Cost = 1757.9510309621182\n",
      "Step = 35 Cost = 445.646602126629\n",
      "Step = 40 Cost = 741.8437814386955\n",
      "Step = 45 Cost = 1177.9748779905146\n",
      "Final parameters:  [  114.59975922 -1428.5569171 ]\n"
     ]
    }
   ],
   "source": [
    "# Choose an optimizer\n",
    "opt = qml.GradientDescentOptimizer(stepsize=0.3)\n",
    "\n",
    "# Make an initial guess for the parameters and set them as trainable (initialize parameters weights)\n",
    "init_params = np.array([0.1, 0.1], requires_grad=True)\n",
    "\n",
    "# Set data as non-trainable\n",
    "X.requires_grad = False\n",
    "\n",
    "# Choose a number of steps\n",
    "max_iter = 50\n",
    "\n",
    "def optimization_routine(max_iter, opt, cost_fn, params, X, y):\n",
    "    # Loop through max_iter\n",
    "    for i in range(max_iter):\n",
    "        [params, _, _], prev_cost = opt.step_and_cost(cost_fn, params, X, y)\n",
    "        if i % 5 == 0:\n",
    "            # Print the result after 5 steps\n",
    "            print(f'Step = {i} Cost = {cost_fn(params, X, y)}')\n",
    "    \n",
    "    # Print the value of the optimized parameters\n",
    "    print('Final parameters: ', params)\n",
    "    return params\n",
    "\n",
    "final_params = optimization_routine(max_iter, opt, cost_fn, init_params, X, y)"
   ]
  },
  {
   "cell_type": "markdown",
   "metadata": {},
   "source": [
    "#### Step 6: Test and graph results"
   ]
  },
  {
   "cell_type": "code",
   "execution_count": 28,
   "metadata": {},
   "outputs": [
    {
     "data": {
      "image/png": "[encoded data removed]",
      "text/plain": [
       "<Figure size 640x480 with 1 Axes>"
      ]
     },
     "metadata": {},
     "output_type": "display_data"
    }
   ],
   "source": [
    "# Output of quantum circuit for test data\n",
    "test_predictions = [quantum_circuit(x_test, final_params) for x_test in X_test]\n",
    "\n",
    "# Create a scatter plot showing the training and test data as well as the test predictions\n",
    "def plot_results(X, y, X_test, y_test, test_predictions):\n",
    "    fig = plt.figure()\n",
    "    ax1 = fig.add_subplot(111)\n",
    "\n",
    "    ax1.scatter(X, y, s=30, c='b', marker='s', label='Train labels')\n",
    "    ax1.scatter(X_test, y_test, s=60, c='r', marker='o', label='Test labels')\n",
    "    ax1.scatter(X_test, test_predictions, s=30, c='k', marker='x', label='Test predictions')\n",
    "    plt.xlabel(\"Inputs\")\n",
    "    plt.ylabel(\"Labels\")\n",
    "    plt.title(\"QML results\")\n",
    "\n",
    "    plt.legend(loc='upper right');\n",
    "    plt.show()\n",
    "\n",
    "plot_results(X, y, X_test, y_test, test_predictions)\n"
   ]
  },
  {
   "cell_type": "code",
   "execution_count": null,
   "metadata": {},
   "outputs": [],
   "source": []
  }
 ],
 "metadata": {
  "kernelspec": {
   "display_name": "venv",
   "language": "python",
   "name": "python3"
  },
  "language_info": {
   "codemirror_mode": {
    "name": "ipython",
    "version": 3
   },
   "file_extension": ".py",
   "mimetype": "text/x-python",
   "name": "python",
   "nbconvert_exporter": "python",
   "pygments_lexer": "ipython3",
   "version": "3.11.8"
  }
 },
 "nbformat": 4,
 "nbformat_minor": 2
}
